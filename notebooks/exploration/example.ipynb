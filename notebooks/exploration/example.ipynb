{
 "cells": [
  {
   "metadata": {},
   "cell_type": "markdown",
   "source": "# This is a demo notebook to show how to use classes defined inside `src` module from sub-folders",
   "id": "f36a8362bd21fd02"
  },
  {
   "metadata": {},
   "cell_type": "code",
   "source": [
    "# First, we need to import these two packages\n",
    "from typing import Union\n",
    "\n",
    "import os\n",
    "import sys"
   ],
   "id": "52c926d539e2d6cf",
   "outputs": [],
   "execution_count": null
  },
  {
   "metadata": {},
   "cell_type": "code",
   "source": [
    "# Here we tell the Jupyter the absolute path to the `/src` folder\n",
    "src_path: Union[str, os.PathLike] = os.path.abspath(\n",
    "    os.path.join( \n",
    "        \"..\",                       # here, we go up one level: project_root/notebooks\n",
    "        \"..\",                       # here, we go up one level again: project_root/\n",
    "        \"src\"                       # here, we find the \"src\" package from the root: project_root/src\n",
    "    )\n",
    ")\n",
    "\n",
    "print(src_path)"
   ],
   "id": "4e748a4d05be984",
   "outputs": [],
   "execution_count": null
  },
  {
   "metadata": {},
   "cell_type": "code",
   "source": [
    "# here, we temporary append the \"/src\" folder to the system path\n",
    "sys.path.append(src_path)"
   ],
   "id": "281e7e993ed728ec",
   "outputs": [],
   "execution_count": null
  },
  {
   "metadata": {},
   "cell_type": "code",
   "outputs": [],
   "execution_count": null,
   "source": [
    "# here, we change the working directory to root\n",
    "os.chdir(\n",
    "    os.path.join(\n",
    "        \"..\",\n",
    "        \"..\"\n",
    "    )\n",
    ")\n",
    "\n",
    "os.getcwd()"
   ],
   "id": "38b9acf811fa444b"
  },
  {
   "metadata": {},
   "cell_type": "code",
   "source": [
    "# starting from here, you import modules as pas normal\n",
    "\n",
    "import traceback\n",
    "import pandas as pd\n",
    "\n",
    "from src.commons import EnvConstants as EnvConst\n",
    "from src.commons.Logger import Logger\n",
    "from src.commons.ThriftyFetcher import ThriftyFetcher\n",
    "from src.creds_accessor.CredentialAccessor import CredentialAccessor as CrAcc\n",
    "from src.dao.GoogleBigquery import GoogleBigQuery"
   ],
   "id": "4e746590bf3d34a4",
   "outputs": [],
   "execution_count": null
  },
  {
   "metadata": {},
   "cell_type": "code",
   "source": [
    "cred_accessor: CrAcc = CrAcc(\n",
    "    env=EnvConst.PROD,\n",
    "    on_server=False,\n",
    "    config_yaml_path=\"config.yaml\",\n",
    ")\n",
    "\n",
    "mygbq: GoogleBigQuery = GoogleBigQuery(\n",
    "    attr=cred_accessor.get_attr()\n",
    ")\n",
    "\n",
    "logger: Logger = Logger(\n",
    "    logger_name=\"example_logger_name\",\n",
    "    caller_name=\"example.ipynb\",\n",
    "    attr=cred_accessor.get_attr(),\n",
    "    level=Logger.INFO\n",
    ")\n",
    "\n",
    "try:\n",
    "    fetcher: ThriftyFetcher = ThriftyFetcher(\n",
    "        mygbq=mygbq,\n",
    "        sql_file_path=\"queries/your_query_file.sql\",\n",
    "        dataset_directory=\"./dataset/00_raw\"\n",
    "    )\n",
    "\n",
    "    data_df: pd.DataFrame = fetcher.get_data()\n",
    "\n",
    "except Exception as e:\n",
    "\n",
    "    logger.error(\n",
    "        message= \\\n",
    "        f\"\"\"\n",
    "        Exception occurred: {traceback.format_exc()}\n",
    "        \\n\\n\n",
    "        \"\"\"\n",
    "    )"
   ],
   "id": "305f4c7bfc23cb0f",
   "outputs": [],
   "execution_count": null
  }
 ],
 "metadata": {
  "kernelspec": {
   "display_name": "Python 3",
   "language": "python",
   "name": "python3"
  },
  "language_info": {
   "codemirror_mode": {
    "name": "ipython",
    "version": 2
   },
   "file_extension": ".py",
   "mimetype": "text/x-python",
   "name": "python",
   "nbconvert_exporter": "python",
   "pygments_lexer": "ipython2",
   "version": "2.7.6"
  }
 },
 "nbformat": 4,
 "nbformat_minor": 5
}
